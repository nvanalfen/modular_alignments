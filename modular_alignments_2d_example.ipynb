{
 "cells": [
  {
   "cell_type": "markdown",
   "id": "2def1123-9985-4b4c-8e0f-42c78fb0bfdf",
   "metadata": {},
   "source": [
    "# Summary"
   ]
  },
  {
   "cell_type": "markdown",
   "id": "76e62209-ae15-4be9-b1fb-87081977e9d7",
   "metadata": {},
   "source": [
    "Here we use the modular_alignment_2d functions to assign alignments to galaxies with 2D information.</br>\n",
    "In these cases, we either don't have the full 3D information available, or we want to use inherently 2D</br>\n",
    "properties like the tidal tensor."
   ]
  },
  {
   "cell_type": "code",
   "execution_count": 9,
   "id": "64a81473-efa4-4390-9eeb-825f63e9d4e4",
   "metadata": {},
   "outputs": [],
   "source": [
    "from modular_alignment_2d import align_to_axis, align_to_tidal_field, align_radially, tidal_angle\n",
    "from astropy.io import ascii\n",
    "import numpy as np"
   ]
  },
  {
   "cell_type": "code",
   "execution_count": 6,
   "id": "dec5f322-87f2-4714-a201-656654e73dce",
   "metadata": {},
   "outputs": [],
   "source": [
    "# This dict is just a mapping between what I call the value and the key used in the astropy table\n",
    "# Maybe a slight bit hacky, but it lets me use a consistent naming scheme as long as the user provides some similar dict\n",
    "\n",
    "table_keys = {\n",
    "    \"ra\" : \"ra_true\",                                                   # RA\n",
    "    \"dec\" : \"dec_true\",                                                 # dec\n",
    "    \"redshift\" : \"redshiftHubble\",                                      # Redshift\n",
    "    \"x\" : \"x\",\n",
    "    \"y\" : \"y\",\n",
    "    \"z\" : \"z\",\n",
    "    \"halo_x\" : \"baseDC2/target_halo_x\",\n",
    "    \"halo_y\" : \"baseDC2/target_halo_y\",\n",
    "    \"halo_z\" : \"baseDC2/target_halo_z\",\n",
    "    \"halo_axisA_x\" : \"baseDC2/target_halo_axis_A_x\",\n",
    "    \"halo_axisA_y\" : \"baseDC2/target_halo_axis_A_y\",\n",
    "    \"halo_axisA_z\" : \"baseDC2/target_halo_axis_A_z\",\n",
    "    \"halo_mvir\" : \"baseDC2/host_halo_mvir\",\n",
    "    \"isCentral\" : \"isCentral\",\n",
    "    \"ellipticity\" : \"morphology/totalEllipticity\",\n",
    "    \"e1\" : \"morphology/totalEllipticity1\",\n",
    "    \"e2\" : \"morphology/totalEllipticity2\",\n",
    "    \"gamma1\" : \"shear1\",\n",
    "    \"gamma2\" : \"shear2\",\n",
    "    \"g\" : \"mag_true_g\",\n",
    "    \"r\" : \"mag_true_r\",\n",
    "    \"stellar_mass\" : \"stellar_mass\",\n",
    "    \"s11\" : \"tidal_s_11\",\n",
    "    \"s12\" : \"tidal_s_12\",\n",
    "    \"s22\" : \"tidal_s_22\"\n",
    "}"
   ]
  },
  {
   "cell_type": "markdown",
   "id": "208c78fb-a14e-4900-93e3-aceda7d35a4c",
   "metadata": {},
   "source": [
    "Read in a short example table.</br>\n",
    "One central galaxy and two satellites (not necessarily related)"
   ]
  },
  {
   "cell_type": "code",
   "execution_count": 7,
   "id": "7a5ae2fd-5cee-4ece-8997-b87c9543b9c6",
   "metadata": {},
   "outputs": [],
   "source": [
    "data = ascii.read(\"short_table.dat\")\n",
    "data[\"isCentral\"] = data[\"isCentral\"] == \"True\""
   ]
  },
  {
   "cell_type": "code",
   "execution_count": 8,
   "id": "762cee7f-07f7-493e-87b2-482391770665",
   "metadata": {},
   "outputs": [
    {
     "data": {
      "text/html": [
       "<div><i>Table length=3</i>\n",
       "<table id=\"table139911045755904\" class=\"table-striped table-bordered table-condensed\">\n",
       "<thead><tr><th>ra_true</th><th>dec_true</th><th>redshiftHubble</th><th>x</th><th>y</th><th>z</th><th>baseDC2/target_halo_x</th><th>baseDC2/target_halo_y</th><th>baseDC2/target_halo_z</th><th>baseDC2/target_halo_axis_A_x</th><th>baseDC2/target_halo_axis_A_y</th><th>baseDC2/target_halo_axis_A_z</th><th>baseDC2/host_halo_mvir</th><th>baseDC2/target_halo_mass</th><th>isCentral</th><th>morphology/totalEllipticity</th><th>morphology/totalEllipticity1</th><th>morphology/totalEllipticity2</th><th>shear1</th><th>shear2</th><th>mag_true_g</th><th>mag_true_r</th><th>stellar_mass</th><th>tidal_s_11</th><th>tidal_s_12</th><th>tidal_s_22</th></tr></thead>\n",
       "<thead><tr><th>float64</th><th>float64</th><th>float64</th><th>float64</th><th>float64</th><th>float64</th><th>float64</th><th>float64</th><th>float64</th><th>float64</th><th>float64</th><th>float64</th><th>float64</th><th>float64</th><th>bool</th><th>float64</th><th>float64</th><th>float64</th><th>float64</th><th>float64</th><th>float64</th><th>float64</th><th>float64</th><th>float64</th><th>float64</th><th>float64</th></tr></thead>\n",
       "<tr><td>0.6554793009305763</td><td>-40.187277441739155</td><td>0.20298659801483154</td><td>445.3499755859375</td><td>5.095147132873535</td><td>-376.2050476074219</td><td>445.3499755859375</td><td>5.095147132873535</td><td>-376.2050476074219</td><td>-0.06459414886164111</td><td>-0.054491909701089906</td><td>0.12305640417054158</td><td>126449999872.0</td><td>158923784192.0</td><td>True</td><td>0.5069335103034973</td><td>-0.4976382255554199</td><td>0.0966322124004364</td><td>-0.0010780795044078029</td><td>-0.0001935919043020633</td><td>22.277347564697266</td><td>21.623077392578125</td><td>475602400.0</td><td>-0.2818889944672113</td><td>0.40005400124426527</td><td>0.38830382637543054</td></tr>\n",
       "<tr><td>0.702982389058322</td><td>-39.47357707949621</td><td>0.20586907863616943</td><td>456.1093484190837</td><td>5.596449378418383</td><td>-375.6626645289206</td><td>456.0932922363281</td><td>5.665058135986328</td><td>-375.6200256347656</td><td>0.3174143488982946</td><td>-0.051942194453338246</td><td>0.2659174734755303</td><td>2824100118528.0</td><td>3472242507776.0</td><td>False</td><td>0.03980273753404617</td><td>-0.01758822798728943</td><td>0.03570591285824776</td><td>4.247972215298823e-05</td><td>-0.001404673295386511</td><td>22.53379249572754</td><td>21.499557495117188</td><td>1453857664.0</td><td>0.2174605605253552</td><td>0.36815189641080087</td><td>0.8146693157568672</td></tr>\n",
       "<tr><td>0.7200102146955414</td><td>-39.482723243105056</td><td>0.20586907863616943</td><td>456.02346422424995</td><td>5.730942836655683</td><td>-375.71550924438276</td><td>456.0932922363281</td><td>5.665058135986328</td><td>-375.6200256347656</td><td>0.3174143488982946</td><td>-0.051942194453338246</td><td>0.2659174734755303</td><td>2824100118528.0</td><td>3472242507776.0</td><td>False</td><td>0.45927709341049194</td><td>0.20627683401107788</td><td>-0.4103478193283081</td><td>-2.3903166125993636e-05</td><td>-0.0009506534437888547</td><td>21.415847778320312</td><td>20.174400329589844</td><td>7387039232.0</td><td>-0.0837378781577978</td><td>0.4144596483241478</td><td>0.6740889367478052</td></tr>\n",
       "</table></div>"
      ],
      "text/plain": [
       "<Table length=3>\n",
       "     ra_true             dec_true      ...      tidal_s_22    \n",
       "     float64             float64       ...       float64      \n",
       "------------------ ------------------- ... -------------------\n",
       "0.6554793009305763 -40.187277441739155 ... 0.38830382637543054\n",
       " 0.702982389058322  -39.47357707949621 ...  0.8146693157568672\n",
       "0.7200102146955414 -39.482723243105056 ...  0.6740889367478052"
      ]
     },
     "execution_count": 8,
     "metadata": {},
     "output_type": "execute_result"
    }
   ],
   "source": [
    "data"
   ]
  },
  {
   "cell_type": "markdown",
   "id": "c7c3b328-98ad-4d0d-bc48-56fbdd4d16e2",
   "metadata": {},
   "source": [
    "# Align"
   ]
  },
  {
   "cell_type": "markdown",
   "id": "59dacc60-dba5-4c0a-a4b5-3e8d7824d38c",
   "metadata": {},
   "source": [
    "## Get The Necessary Variables"
   ]
  },
  {
   "cell_type": "markdown",
   "id": "d5be667d-4e71-47a1-b09a-2c02988c2e46",
   "metadata": {},
   "source": [
    "### From the data table\n",
    "Here, I am grabbing them from an existing galaxy catalog. However, as long as you get these values (regardless of how), that's all the next step needs."
   ]
  },
  {
   "cell_type": "code",
   "execution_count": 14,
   "id": "54eb8a1c-f00f-4731-9999-0c9879f54501",
   "metadata": {},
   "outputs": [],
   "source": [
    "# First, get the mask for central galaxies\n",
    "central_mask = data[\"isCentral\"]\n",
    "\n",
    "# Second, get the values from the appropriate columns\n",
    "# Here's where that weird dict above comes in handy\n",
    "\n",
    "# Major axes\n",
    "halo_axisA_x = data[ table_keys[\"halo_axisA_x\"] ]                # Grab the column with whatever the catalog's version of \"halo_axisA_x\" is called\n",
    "halo_axisA_y = data[ table_keys[\"halo_axisA_y\"] ]\n",
    "halo_axisA_z = data[ table_keys[\"halo_axisA_z\"] ]\n",
    "\n",
    "# Central/Parent halo positions\n",
    "halo_x = data[ table_keys[\"halo_x\"] ]\n",
    "halo_y = data[ table_keys[\"halo_y\"] ]\n",
    "halo_z = data[ table_keys[\"halo_z\"] ]\n",
    "\n",
    "# Galaxy positions\n",
    "x = data[ table_keys[\"x\"] ]\n",
    "y = data[ table_keys[\"y\"] ]\n",
    "z = data[ table_keys[\"z\"] ]\n",
    "\n",
    "redshift = data[ table_keys[\"redshift\"] ]\n",
    "\n",
    "s11 = data[ table_keys[\"s11\"] ]\n",
    "s12 = data[ table_keys[\"s12\"] ]\n",
    "s22 = data[ table_keys[\"s22\"] ]"
   ]
  },
  {
   "cell_type": "markdown",
   "id": "80afa780-4f2b-468a-a47e-70b1d259e387",
   "metadata": {},
   "source": [
    "### Extra variables\n",
    "We also need alignment strengths and the box size"
   ]
  },
  {
   "cell_type": "code",
   "execution_count": 11,
   "id": "d30b4197-1bff-4e30-9dcd-c0f3248d1c79",
   "metadata": {},
   "outputs": [],
   "source": [
    "central_alignment_strength = 0.8\n",
    "satellite_alignment_strength=0.5\n",
    "\n",
    "Lbox = np.array([500., 500., 500.])"
   ]
  },
  {
   "cell_type": "markdown",
   "id": "fd5f4433-dd78-4c54-82f8-ee8ef1045503",
   "metadata": {},
   "source": [
    "## The Actual Alignment\n",
    "Perform the alignment and get the galaxy major axis orientation.</br>\n",
    "We also get the intermediate and minor axes, but these are just random perpendicular vectors"
   ]
  },
  {
   "cell_type": "code",
   "execution_count": 16,
   "id": "b7af236c-c5b1-419e-854b-2bfb75030ed6",
   "metadata": {},
   "outputs": [
    {
     "name": "stdout",
     "output_type": "stream",
     "text": [
      "    tidal_s_12    \n",
      "------------------\n",
      " 2.704828216715141\n",
      "2.6969278615010217\n",
      " 2.726506572405553\n"
     ]
    }
   ],
   "source": [
    "tidal_field_angles = tidal_angle(s11, s22, s12, redshift)\n",
    "print(tidal_field_angles)"
   ]
  },
  {
   "cell_type": "code",
   "execution_count": 17,
   "id": "9ed67bea-7ff5-4f2a-bd91-2fbb4d581d79",
   "metadata": {},
   "outputs": [
    {
     "name": "stdout",
     "output_type": "stream",
     "text": [
      "[2.7199358  2.82840556 2.74813541]\n"
     ]
    },
    {
     "name": "stderr",
     "output_type": "stream",
     "text": [
      "/media/nvanalfen/T7/Northeastern/Research/Coherent_2D_3D/modular_alignments/vonmises_distribution.py:117: UserWarning: The maximum number of iterations reached, random variates may not be representative.\n",
      "  warn(msg)\n"
     ]
    }
   ],
   "source": [
    "angs = align_to_tidal_field(s11, s22, s12, redshift, 1.)\n",
    "print(angs)"
   ]
  },
  {
   "cell_type": "code",
   "execution_count": null,
   "id": "a8e16e65-ac41-491a-af91-b61b2ff473d1",
   "metadata": {},
   "outputs": [],
   "source": []
  }
 ],
 "metadata": {
  "kernelspec": {
   "display_name": "IA",
   "language": "python",
   "name": "ia"
  },
  "language_info": {
   "codemirror_mode": {
    "name": "ipython",
    "version": 3
   },
   "file_extension": ".py",
   "mimetype": "text/x-python",
   "name": "python",
   "nbconvert_exporter": "python",
   "pygments_lexer": "ipython3",
   "version": "3.10.12"
  }
 },
 "nbformat": 4,
 "nbformat_minor": 5
}
